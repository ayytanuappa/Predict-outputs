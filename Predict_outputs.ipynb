{
  "nbformat": 4,
  "nbformat_minor": 0,
  "metadata": {
    "colab": {
      "provenance": []
    },
    "kernelspec": {
      "name": "python3",
      "display_name": "Python 3"
    },
    "language_info": {
      "name": "python"
    }
  },
  "cells": [
    {
      "cell_type": "code",
      "execution_count": 5,
      "metadata": {
        "colab": {
          "base_uri": "https://localhost:8080/"
        },
        "id": "nUmF67vO2naF",
        "outputId": "a8875dd5-ae5e-456d-8afc-b2457923cdd4"
      },
      "outputs": [
        {
          "output_type": "stream",
          "name": "stdout",
          "text": [
            "10\n"
          ]
        }
      ],
      "source": [
        "whatif=\"The world ends today\"\n",
        "print(len(whatif)-len(\"not at all\"))"
      ]
    },
    {
      "cell_type": "code",
      "source": [
        "m=[\"Dune\",\"Jaws\",\"Vp\",\"Titanic\",\"Ratatouille\"]\n",
        "print(m[-2][3]+m[-1][-1]+m[-1][-4]+m[4][-6]+m[-5][1])"
      ],
      "metadata": {
        "colab": {
          "base_uri": "https://localhost:8080/"
        },
        "id": "8_CCpyEj3hnV",
        "outputId": "5c488d9b-8bc9-44de-e6fc-e2b0e90d969b"
      },
      "execution_count": 12,
      "outputs": [
        {
          "output_type": "stream",
          "name": "stdout",
          "text": [
            "aeiou\n"
          ]
        }
      ]
    },
    {
      "cell_type": "code",
      "source": [
        "strength={\"IT\":70,\"ECE\":65,\"EEE\":75,\"AIML\":50}\n",
        "strength.update({\"CSE\":80})\n",
        "print(strength)"
      ],
      "metadata": {
        "colab": {
          "base_uri": "https://localhost:8080/"
        },
        "id": "mAwCOSsX3hp5",
        "outputId": "403d3209-77ef-456e-b76b-f29f80cc9b1e"
      },
      "execution_count": 13,
      "outputs": [
        {
          "output_type": "stream",
          "name": "stdout",
          "text": [
            "{'IT': 70, 'ECE': 65, 'EEE': 75, 'AIML': 50, 'CSE': 80}\n"
          ]
        }
      ]
    },
    {
      "cell_type": "code",
      "source": [
        "event='Easter at April 20'\n",
        "l=event.split(\" \")\n",
        "print(\"#\".join(l[::-2]))"
      ],
      "metadata": {
        "colab": {
          "base_uri": "https://localhost:8080/"
        },
        "id": "OWzqR-YQ3hsY",
        "outputId": "c2a926bf-253c-436f-9601-fb57a2751759"
      },
      "execution_count": 17,
      "outputs": [
        {
          "output_type": "stream",
          "name": "stdout",
          "text": [
            "20#at\n"
          ]
        }
      ]
    },
    {
      "cell_type": "code",
      "source": [
        "name=\"College of Engineering\"\n",
        "print(name[8:11]+\"cyc\"+name[3]+name[-3:])"
      ],
      "metadata": {
        "colab": {
          "base_uri": "https://localhost:8080/"
        },
        "id": "KhZhi-Rr3hv3",
        "outputId": "521ffc7d-1725-4f98-abf7-50f3b2ebe960"
      },
      "execution_count": 18,
      "outputs": [
        {
          "output_type": "stream",
          "name": "stdout",
          "text": [
            "of cycling\n"
          ]
        }
      ]
    },
    {
      "cell_type": "code",
      "source": [
        "print(float(5+int(4.39+2.1)%2))"
      ],
      "metadata": {
        "colab": {
          "base_uri": "https://localhost:8080/"
        },
        "id": "tZrsSgBz3h0r",
        "outputId": "8325a209-ca36-4b26-a3f8-e2adb52f9451"
      },
      "execution_count": 19,
      "outputs": [
        {
          "output_type": "stream",
          "name": "stdout",
          "text": [
            "5.0\n"
          ]
        }
      ]
    },
    {
      "cell_type": "code",
      "source": [
        "print(3*1**3)"
      ],
      "metadata": {
        "colab": {
          "base_uri": "https://localhost:8080/"
        },
        "id": "OBbCAHlX6YQ1",
        "outputId": "a47be587-000d-42a3-c810-55fa3eebbcc0"
      },
      "execution_count": 20,
      "outputs": [
        {
          "output_type": "stream",
          "name": "stdout",
          "text": [
            "3\n"
          ]
        }
      ]
    },
    {
      "cell_type": "code",
      "source": [
        "p,q=8,3\n",
        "p,q,p=p+1,q+5,p+10\n",
        "print(p,q)"
      ],
      "metadata": {
        "colab": {
          "base_uri": "https://localhost:8080/"
        },
        "id": "JU3bAf6U6YUU",
        "outputId": "dd185b8d-baf2-47ec-fb59-09cfc7ce493f"
      },
      "execution_count": 21,
      "outputs": [
        {
          "output_type": "stream",
          "name": "stdout",
          "text": [
            "18 8\n"
          ]
        }
      ]
    },
    {
      "cell_type": "code",
      "source": [
        "print(16//3+3**3+15/4-9)"
      ],
      "metadata": {
        "colab": {
          "base_uri": "https://localhost:8080/"
        },
        "id": "ctrY2xhx6YXg",
        "outputId": "c48a1698-48c7-4ef2-995d-372c5ebeeb36"
      },
      "execution_count": 22,
      "outputs": [
        {
          "output_type": "stream",
          "name": "stdout",
          "text": [
            "26.75\n"
          ]
        }
      ]
    },
    {
      "cell_type": "code",
      "source": [
        "t=(2,4,(6,8,(10,12)),14)\n",
        "print(t[2][2][0]*t[0]+t[-1])"
      ],
      "metadata": {
        "colab": {
          "base_uri": "https://localhost:8080/"
        },
        "id": "zTTuQnyz6YaK",
        "outputId": "4374bc80-4747-44e7-9e5d-813120ecd831"
      },
      "execution_count": 24,
      "outputs": [
        {
          "output_type": "stream",
          "name": "stdout",
          "text": [
            "34\n"
          ]
        }
      ]
    }
  ]
}