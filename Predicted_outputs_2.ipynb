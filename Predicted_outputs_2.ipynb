{
  "nbformat": 4,
  "nbformat_minor": 0,
  "metadata": {
    "colab": {
      "provenance": []
    },
    "kernelspec": {
      "name": "python3",
      "display_name": "Python 3"
    },
    "language_info": {
      "name": "python"
    }
  },
  "cells": [
    {
      "cell_type": "code",
      "execution_count": null,
      "metadata": {
        "colab": {
          "base_uri": "https://localhost:8080/"
        },
        "id": "cmWq4YGAWYGR",
        "outputId": "a1deaab8-ff1c-42bf-8a32-3d42ffff532d"
      },
      "outputs": [
        {
          "output_type": "stream",
          "name": "stdout",
          "text": [
            "2\n",
            "(1, 2)\n",
            "(5, (7, 5, (1, 2)), 5, 4, 5, (7, 5, (1, 2)), 5, 4, 5, (7, 5, (1, 2)), 5, 4)\n",
            "4\n",
            "(5, (7, 5, (1, 2)), 5, 4, 7, 8, (4, 5))\n"
          ]
        }
      ],
      "source": [
        "a = (5,(7,5,(1,2)),5,4)\n",
        "print(a.count(5))\n",
        "print(a[1][2])\n",
        "print(a * 3)\n",
        "print(len(a))\n",
        "b = (7,8,(4,5))\n",
        "print(a + b )"
      ]
    },
    {
      "cell_type": "code",
      "source": [
        "x = [3, 6, 9, 12, 15]\n",
        "y = x[::-1]\n",
        "print(y[1] + x[-3])"
      ],
      "metadata": {
        "colab": {
          "base_uri": "https://localhost:8080/"
        },
        "id": "vwcw9D3MWuNt",
        "outputId": "2e8f33b2-5a7e-4198-d94e-2662c61d2db3"
      },
      "execution_count": null,
      "outputs": [
        {
          "output_type": "stream",
          "name": "stdout",
          "text": [
            "21\n"
          ]
        }
      ]
    },
    {
      "cell_type": "code",
      "source": [
        "word = \"Whatever\"\n",
        "print(word[:3] + word[-1] + word[4:2:-1])"
      ],
      "metadata": {
        "colab": {
          "base_uri": "https://localhost:8080/"
        },
        "id": "-7qa3FyRWuSL",
        "outputId": "0a809b0b-0779-4a86-98f4-3512f5006bb1"
      },
      "execution_count": null,
      "outputs": [
        {
          "output_type": "stream",
          "name": "stdout",
          "text": [
            "Wharet\n"
          ]
        }
      ]
    },
    {
      "cell_type": "code",
      "source": [
        "nums = {3, 6, 9, 12}\n",
        "nums.add(15)\n",
        "nums.remove(6)\n",
        "nums.update([18, 21])\n",
        "nums.discard(99)\n",
        "print(sum(nums))"
      ],
      "metadata": {
        "colab": {
          "base_uri": "https://localhost:8080/"
        },
        "id": "drCNCNjOWt_K",
        "outputId": "a33cbcff-6e82-4adb-c791-fc4f0c23aaf0"
      },
      "execution_count": null,
      "outputs": [
        {
          "output_type": "stream",
          "name": "stdout",
          "text": [
            "78\n"
          ]
        }
      ]
    },
    {
      "cell_type": "code",
      "source": [
        "info = {\"name\": \"Tanusree\", \"age\": 18, \"state\": \"Telangana\"}\n",
        "info[\"age\"] += 4\n",
        "info[\"country\"] = \"India\"\n",
        "print(info.keys())\n",
        "print(info.get(\"state\", \"Unknown\"))"
      ],
      "metadata": {
        "colab": {
          "base_uri": "https://localhost:8080/"
        },
        "id": "Aw00nkz7WuCf",
        "outputId": "e52b2755-36b4-48a9-da37-19fbd29989d5"
      },
      "execution_count": null,
      "outputs": [
        {
          "output_type": "stream",
          "name": "stdout",
          "text": [
            "dict_keys(['name', 'age', 'state', 'country'])\n",
            "Telangana\n"
          ]
        }
      ]
    },
    {
      "cell_type": "code",
      "source": [
        "num_list = [5, 10, 15, 20, 25]\n",
        "res = list(map(lambda x: x % 3, num_list))\n",
        "print(res)"
      ],
      "metadata": {
        "colab": {
          "base_uri": "https://localhost:8080/"
        },
        "id": "UxWtejkWWuGS",
        "outputId": "e2df21e7-6594-40a6-df1b-a775392ccaed"
      },
      "execution_count": null,
      "outputs": [
        {
          "output_type": "stream",
          "name": "stdout",
          "text": [
            "[2, 1, 0, 2, 1]\n"
          ]
        }
      ]
    },
    {
      "cell_type": "code",
      "source": [
        "ages = [15, 22, 18, 30, 12, 40, 90]\n",
        "adults = list(filter(lambda x: x >= 18, ages))\n",
        "print(len(adults))"
      ],
      "metadata": {
        "colab": {
          "base_uri": "https://localhost:8080/"
        },
        "id": "HYtjdx9nXQ21",
        "outputId": "2c54a519-6949-4247-9fe9-3ab1e71bb41c"
      },
      "execution_count": null,
      "outputs": [
        {
          "output_type": "stream",
          "name": "stdout",
          "text": [
            "5\n"
          ]
        }
      ]
    },
    {
      "cell_type": "code",
      "source": [
        "from functools import reduce\n",
        "nums = [1, 2, 3, 4, 5]\n",
        "result = reduce(lambda x, y: x * y, nums)\n",
        "print(result)"
      ],
      "metadata": {
        "colab": {
          "base_uri": "https://localhost:8080/"
        },
        "id": "kNkk80wSXRVO",
        "outputId": "f406289b-ba43-4fc0-f76e-328bb2a7a081"
      },
      "execution_count": null,
      "outputs": [
        {
          "output_type": "stream",
          "name": "stdout",
          "text": [
            "120\n"
          ]
        }
      ]
    },
    {
      "cell_type": "code",
      "source": [
        "alpha = [\"a\", \"b\", \"c\", \"d\"]\n",
        "print(alpha.pop(2) + alpha[-1])\n",
        "print(alpha)"
      ],
      "metadata": {
        "colab": {
          "base_uri": "https://localhost:8080/"
        },
        "id": "I7mvTWhVXRex",
        "outputId": "0592c176-454e-40d4-ad05-c42c99da9370"
      },
      "execution_count": null,
      "outputs": [
        {
          "output_type": "stream",
          "name": "stdout",
          "text": [
            "cd\n",
            "['a', 'b', 'd']\n"
          ]
        }
      ]
    },
    {
      "cell_type": "code",
      "source": [
        "x = 10\n",
        "y = 3\n",
        "x, y = x % y, x // y\n",
        "print(x, y)"
      ],
      "metadata": {
        "colab": {
          "base_uri": "https://localhost:8080/"
        },
        "id": "QPtpLmdpXfB3",
        "outputId": "031a89c5-d0c7-475d-ee74-9787df82ab37"
      },
      "execution_count": null,
      "outputs": [
        {
          "output_type": "stream",
          "name": "stdout",
          "text": [
            "1 3\n"
          ]
        }
      ]
    }
  ]
}