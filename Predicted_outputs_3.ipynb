{
  "nbformat": 4,
  "nbformat_minor": 0,
  "metadata": {
    "colab": {
      "provenance": []
    },
    "kernelspec": {
      "name": "python3",
      "display_name": "Python 3"
    },
    "language_info": {
      "name": "python"
    }
  },
  "cells": [
    {
      "cell_type": "code",
      "execution_count": null,
      "metadata": {
        "colab": {
          "base_uri": "https://localhost:8080/"
        },
        "id": "w6ytJ8SEvVdo",
        "outputId": "c17662b5-868b-4e15-e851-a2d30ebdde51"
      },
      "outputs": [
        {
          "output_type": "stream",
          "name": "stdout",
          "text": [
            "15 25 -5\n"
          ]
        }
      ],
      "source": [
        "#1\n",
        "a=10\n",
        "b=20\n",
        "c=-5\n",
        "a,b,a=a-a+c,b-c,b+c\n",
        "print(a,b,c)"
      ]
    },
    {
      "cell_type": "code",
      "source": [
        "#2\n",
        "s='ComputerScience'\n",
        "print(s[2]+s[-4]+s[1:-7])"
      ],
      "metadata": {
        "colab": {
          "base_uri": "https://localhost:8080/"
        },
        "id": "JB2pUrkKwBbY",
        "outputId": "6dc29e22-855e-4a94-9b02-9f92286b4f51"
      },
      "execution_count": null,
      "outputs": [
        {
          "output_type": "stream",
          "name": "stdout",
          "text": [
            "meomputer\n"
          ]
        }
      ]
    },
    {
      "cell_type": "code",
      "source": [
        "#3\n",
        "import random\n",
        "VAL=[10,20,30,40,50,60,70,80]\n",
        "START=random.randint(1,3)\n",
        "STOP=random.randint(START,4)\n",
        "for x in range(START,STOP+1):\n",
        "  print(VAL[x],end=\"#\")"
      ],
      "metadata": {
        "colab": {
          "base_uri": "https://localhost:8080/"
        },
        "id": "cqLs_GrvwB2T",
        "outputId": "7755e4bc-a01b-453a-9d66-aeb8b1bb1a63"
      },
      "execution_count": null,
      "outputs": [
        {
          "output_type": "stream",
          "name": "stdout",
          "text": [
            "30#"
          ]
        }
      ]
    },
    {
      "cell_type": "code",
      "source": [
        "#4\n",
        "def changeList(X,Y):\n",
        "    X[0]=25\n",
        "    Y=[2,3]\n",
        "L1=[-11,21]\n",
        "L2=[14,23]\n",
        "changeList(L1,L2)\n",
        "print(L1[0],\"#\",L2[0])"
      ],
      "metadata": {
        "colab": {
          "base_uri": "https://localhost:8080/"
        },
        "id": "Xw447jBSwCZt",
        "outputId": "0dffba00-84bd-4a77-9955-3976cfc722e0"
      },
      "execution_count": null,
      "outputs": [
        {
          "output_type": "stream",
          "name": "stdout",
          "text": [
            "25 # 14\n"
          ]
        }
      ]
    },
    {
      "cell_type": "code",
      "source": [
        "#5\n",
        "l1=[10,20,30,40,50]\n",
        "START=1\n",
        "s=0\n",
        "for c in range(START,4):\n",
        "  s=s+l1[c]\n",
        "  print(c,\":\")\n",
        "s=s+l1[0]*10\n",
        "print(s)"
      ],
      "metadata": {
        "colab": {
          "base_uri": "https://localhost:8080/"
        },
        "id": "spYfus1Py6S5",
        "outputId": "076cd032-13a9-4e84-c28d-7453610ef5c2"
      },
      "execution_count": null,
      "outputs": [
        {
          "output_type": "stream",
          "name": "stdout",
          "text": [
            "1 :\n",
            "2 :\n",
            "3 :\n",
            "190\n"
          ]
        }
      ]
    },
    {
      "cell_type": "code",
      "source": [
        "#6\n",
        "my_str=\"SIMPLE QUESTIONS\"\n",
        "print(my_str.count('E',2,12))\n",
        "print(my_str.count('PL',2,12))"
      ],
      "metadata": {
        "colab": {
          "base_uri": "https://localhost:8080/"
        },
        "id": "7mAp628fy6-k",
        "outputId": "75733527-fa24-4aa5-fea5-76bb938b9bba"
      },
      "execution_count": null,
      "outputs": [
        {
          "output_type": "stream",
          "name": "stdout",
          "text": [
            "2\n",
            "1\n"
          ]
        }
      ]
    },
    {
      "cell_type": "code",
      "source": [
        "#7\n",
        "D={'A':'ARUN','GRADE':'A'}\n",
        "print(list(D.values()))"
      ],
      "metadata": {
        "colab": {
          "base_uri": "https://localhost:8080/"
        },
        "id": "pFkgY4YR0TqV",
        "outputId": "a7c27ee6-5620-4cb4-86f8-995010d5f21b"
      },
      "execution_count": null,
      "outputs": [
        {
          "output_type": "stream",
          "name": "stdout",
          "text": [
            "['ARUN', 'A']\n"
          ]
        }
      ]
    },
    {
      "cell_type": "code",
      "source": [
        "#8\n",
        "x=25\n",
        "def modify(s,c=2):\n",
        "  global x\n",
        "  for a in s:\n",
        "    if a in 'QWEiop':\n",
        "      x//=5\n",
        "      print(a.upper(),'@',c*x)\n",
        "    else:\n",
        "      x+=5\n",
        "      print(a.lower(),'#',c+x)\n",
        "\n",
        "strA=\"Sara\"\n",
        "modify(strA,10)\n",
        "print(x,'$',strA)\n",
        "strB=\"WE\"\n",
        "modify(strB)\n",
        "print(x,'$',strB)"
      ],
      "metadata": {
        "colab": {
          "base_uri": "https://localhost:8080/"
        },
        "id": "PLHA3mJr0UTD",
        "outputId": "a3c8622d-cd45-4945-8d90-7a512a5bc7a7"
      },
      "execution_count": null,
      "outputs": [
        {
          "output_type": "stream",
          "name": "stdout",
          "text": [
            "s # 40\n",
            "a # 45\n",
            "r # 50\n",
            "a # 55\n",
            "45 $ Sara\n",
            "W @ 18\n",
            "E @ 2\n",
            "1 $ WE\n"
          ]
        }
      ]
    },
    {
      "cell_type": "code",
      "source": [
        "#9\n",
        "print(5-2**2**2+99//11)"
      ],
      "metadata": {
        "colab": {
          "base_uri": "https://localhost:8080/"
        },
        "id": "GK0spgUv0VPv",
        "outputId": "a1e5992a-7295-416b-c4ef-2a10b9bed744"
      },
      "execution_count": null,
      "outputs": [
        {
          "output_type": "stream",
          "name": "stdout",
          "text": [
            "-2\n"
          ]
        }
      ]
    },
    {
      "cell_type": "code",
      "source": [
        "#10\n",
        "for i in \"BVRIT Hyderabad\":\n",
        "  print(i.lower(),end=\"#\")"
      ],
      "metadata": {
        "colab": {
          "base_uri": "https://localhost:8080/"
        },
        "id": "wdIFO79O0VpS",
        "outputId": "fe8f6215-849c-4f38-dd3e-9bca87912fb2"
      },
      "execution_count": null,
      "outputs": [
        {
          "output_type": "stream",
          "name": "stdout",
          "text": [
            "b#v#r#i#t# #h#y#d#e#r#a#b#a#d#"
          ]
        }
      ]
    },
    {
      "cell_type": "code",
      "source": [
        "#11\n",
        "import random\n",
        "A=[20,30,40,50,60,70]\n",
        "FROM=random.randint(1,3)\n",
        "TO=random.randint(2,4)\n",
        "for k in range(FROM,TO):\n",
        "  print(A[k],end=\"#\")"
      ],
      "metadata": {
        "id": "jtMZd0pCqhvG"
      },
      "execution_count": null,
      "outputs": []
    },
    {
      "cell_type": "code",
      "source": [
        "#12\n",
        "import math\n",
        "import random\n",
        "print(str(int(math.pow(random.randint(2,4),2))))\n",
        "print(str(int(math.pow(random.randint(2,4),2))))\n",
        "print(str(int(math.pow(random.randint(2,4),2))))"
      ],
      "metadata": {
        "id": "2j6TPrWj6yH0",
        "colab": {
          "base_uri": "https://localhost:8080/"
        },
        "outputId": "b3df341b-8daa-488a-b4af-579d394650ab"
      },
      "execution_count": null,
      "outputs": [
        {
          "output_type": "stream",
          "name": "stdout",
          "text": [
            "4\n",
            "4\n",
            "9\n"
          ]
        }
      ]
    },
    {
      "cell_type": "code",
      "source": [
        "#13\n",
        "import random as r\n",
        "print(10+r.randint(10,15),end=\" \")"
      ],
      "metadata": {
        "id": "a3AOVfbk6yS7",
        "colab": {
          "base_uri": "https://localhost:8080/"
        },
        "outputId": "7e55cf9b-ab40-4ab3-d0ad-3c1bb081e200"
      },
      "execution_count": null,
      "outputs": [
        {
          "output_type": "stream",
          "name": "stdout",
          "text": [
            "23 "
          ]
        }
      ]
    },
    {
      "cell_type": "code",
      "source": [
        "\n",
        "#14\n",
        "import random as r\n",
        "print(100+r.randint(15,25),end=\" \")\n",
        "print(100-r.randint(15,25),end=\" \")\n",
        "print(100*r.randint(15,25),end=\" \")"
      ],
      "metadata": {
        "colab": {
          "base_uri": "https://localhost:8080/"
        },
        "id": "zOcVcJqhq-ay",
        "outputId": "b55541e3-3602-4e8f-c9d1-fc6138bcefe9"
      },
      "execution_count": null,
      "outputs": [
        {
          "output_type": "stream",
          "name": "stdout",
          "text": [
            "115 84 1500 "
          ]
        }
      ]
    }
  ]
}